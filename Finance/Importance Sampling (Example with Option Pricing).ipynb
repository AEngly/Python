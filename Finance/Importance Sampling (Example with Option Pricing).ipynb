{
 "cells": [
  {
   "cell_type": "markdown",
   "id": "412f858d",
   "metadata": {},
   "source": [
    "<br>\n",
    "<br>\n",
    "<center> <font size = 6> Importance Sampling: Option Pricing </font> </center>\n",
    "<br>\n",
    "<br>\n",
    "<center> <font size = 3> Last Updated: 20/01-2023 </font> </center>"
   ]
  },
  {
   "cell_type": "markdown",
   "id": "0f884cf3",
   "metadata": {},
   "source": [
    "### Acknowledgements"
   ]
  },
  {
   "cell_type": "markdown",
   "id": "ce5d0d54",
   "metadata": {},
   "source": [
    "This notebook is created based on the tutorial by QuantPy. The video can be found here: https://www.youtube.com/watch?v=V8kruQjqpuw&t=921s. "
   ]
  },
  {
   "cell_type": "markdown",
   "id": "24698776",
   "metadata": {},
   "source": [
    "### Imports"
   ]
  },
  {
   "cell_type": "code",
   "execution_count": 37,
   "id": "dd813943",
   "metadata": {},
   "outputs": [],
   "source": [
    "import numpy as np\n",
    "import time\n",
    "import math\n",
    "import scipy.stats"
   ]
  },
  {
   "cell_type": "markdown",
   "id": "b23d1512",
   "metadata": {},
   "source": [
    "### What is importance sampling? "
   ]
  },
  {
   "cell_type": "markdown",
   "id": "24b624f0",
   "metadata": {},
   "source": [
    "At times, we wish to sample rare events from a known distribution. However, getting the right realizations might take many simulations. To reduce the computational demand, we can change the measure to a equivalent one, where we need fewer repetitions. "
   ]
  },
  {
   "cell_type": "markdown",
   "id": "622eff15",
   "metadata": {},
   "source": [
    "Consider the probability space $(\\Omega, \\mathcal{F}, P)$, where $\\Omega$ is the sample space (i.e., set of all outcomes), $\\mathcal{F}$ is a $\\sigma$-algebra (i.e., set of all events we wish to consider), and $P : \\mathcal{F} \\mapsto [0, 1]$ is a probability measure which assigns a probability to each considered event."
   ]
  },
  {
   "cell_type": "markdown",
   "id": "c47d3210",
   "metadata": {},
   "source": [
    "**Definition:** $\\sigma$-algebra"
   ]
  },
  {
   "cell_type": "markdown",
   "id": "5be5aa95",
   "metadata": {},
   "source": [
    "Consider the set $\\Omega$. Then a subset $\\Sigma \\subseteq \\mathcal{P}(\\Omega)$, where $\\mathcal{P}(\\Omega)$ is the power set of $\\Omega$, is a $\\sigma$-algebra if it satisfies\n",
    "\n",
    "1. $\\Omega \\in \\Sigma$ (i.e., the set contains itself)\n",
    "2. $\\Sigma$ is closed under complementation (i.e., if $A \\in \\Sigma$, then $(\\Omega - A) \\in \\Sigma$)\n",
    "3. $\\Sigma$ is closed under countable union (i.e., for any sets $A_{i} \\in \\Sigma$, then $\\cup A_{i} \\in \\Sigma$)"
   ]
  },
  {
   "cell_type": "markdown",
   "id": "19d4a0b1",
   "metadata": {},
   "source": [
    "**Outline of Theory**"
   ]
  },
  {
   "cell_type": "markdown",
   "id": "6638f370",
   "metadata": {},
   "source": [
    "Suppose we want to find $\\mathbb{E}[f(X)] = \\int_{\\Omega} f(X) dP$. \n",
    "\n",
    "Introducing a simple fraction, we get the simplification\n",
    "\n",
    "$$\n",
    "\\mathbb{E}[f(X)] = \\int_{\\Omega} f(X) \\frac{dP}{dQ}dQ = \\mathbb{E}^{Q}[f(X) \\frac{dP}{dQ}] \\approx \\frac{1}{n} \\sum_{i=1}^{n} f(x_{i}) \\frac{p(x_{i})}{q(x_{i})}\n",
    "$$\n",
    "\n",
    "which means that we can find the expectation $\\mathbb{E}[f(X)]$ w.r.t. to the measure $\\mathbb{P}$ by finding the expectation of $f(X)$ multiplied with the above fraction under an equivalent measure $Q$."
   ]
  },
  {
   "cell_type": "markdown",
   "id": "069ffabf",
   "metadata": {},
   "source": [
    "**Example 1**"
   ]
  },
  {
   "cell_type": "markdown",
   "id": "a723e3d9",
   "metadata": {},
   "source": [
    "Suppose we want to find $\\mathbb{E}[I_{X \\geq 25}] = P(X \\geq 25)$. Let $X \\sim N(0, 1)$ (i.e., the *standard normal distribution*)."
   ]
  },
  {
   "cell_type": "code",
   "execution_count": 19,
   "id": "a5866d13",
   "metadata": {},
   "outputs": [
    {
     "name": "stdout",
     "output_type": "stream",
     "text": [
      "It took 0.001 seconds to draw the RVs\n"
     ]
    }
   ],
   "source": [
    "start_time = time.time()\n",
    "x1 = np.random.normal(loc = 0, scale = 1, size = 10000)\n",
    "end_time = time.time()\n",
    "print(\"It took {} seconds to draw the RVs\".format(round(end_time - start_time, 3)))"
   ]
  },
  {
   "cell_type": "code",
   "execution_count": 20,
   "id": "7b9fc0c0",
   "metadata": {},
   "outputs": [
    {
     "data": {
      "text/plain": [
       "0"
      ]
     },
     "execution_count": 20,
     "metadata": {},
     "output_type": "execute_result"
    }
   ],
   "source": [
    "np.sum(x1 >= 25)"
   ]
  },
  {
   "cell_type": "markdown",
   "id": "18305f72",
   "metadata": {},
   "source": [
    "With 10.000 drawn random variables, none exceed 25. It is because it corresponds to a 25-$\\sigma$ event, which is very unlikely."
   ]
  },
  {
   "cell_type": "code",
   "execution_count": 21,
   "id": "d09c9805",
   "metadata": {},
   "outputs": [
    {
     "name": "stdout",
     "output_type": "stream",
     "text": [
      "It took 16.729 seconds to draw the RVs.\n"
     ]
    }
   ],
   "source": [
    "start_time = time.time()\n",
    "x2 = np.random.normal(loc = 0, scale = 1, size = 10**(9))\n",
    "end_time = time.time()\n",
    "print(\"It took {} seconds to draw the RVs.\".format(round(end_time - start_time, 3)))"
   ]
  },
  {
   "cell_type": "code",
   "execution_count": 9,
   "id": "64ab4d47",
   "metadata": {},
   "outputs": [
    {
     "data": {
      "text/plain": [
       "0"
      ]
     },
     "execution_count": 9,
     "metadata": {},
     "output_type": "execute_result"
    }
   ],
   "source": [
    "np.sum(x2 >= 25)"
   ]
  },
  {
   "cell_type": "markdown",
   "id": "4ce20f49",
   "metadata": {},
   "source": [
    "Even with $10^{9}$ drawn random variables (took approximately 16.8 seconds), none exceed 25. This stresses the need for importance sampling. Recall the definition of the probability density function of the normal distribution."
   ]
  },
  {
   "cell_type": "markdown",
   "id": "1f219693",
   "metadata": {},
   "source": [
    "$$\n",
    "f(x) = \\frac{1}{\\sqrt{2\\pi \\sigma^{2}}} \\exp{(-\\frac{(x - \\mu)^{2}}{2 \\sigma^{2}})}\n",
    "$$"
   ]
  },
  {
   "cell_type": "markdown",
   "id": "506a425f",
   "metadata": {},
   "source": [
    "Now we introduce $p(x)$ (based on $\\mu = 0$ and $\\sigma = 1$) and $q(x)$ ($\\mu$ unspecified and $\\sigma = 1$)."
   ]
  },
  {
   "cell_type": "markdown",
   "id": "8768c409",
   "metadata": {},
   "source": [
    "$$\n",
    "p(x) = \\frac{1}{\\sqrt{2\\pi}} \\exp{(-\\frac{x^{2}}{2})} \\ \\ \\ \\text{and} \\ \\ \\ q(x) = \\frac{1}{\\sqrt{2\\pi}} \\exp{(-\\frac{(x - \\mu)^{2}}{2})}\n",
    "$$"
   ]
  },
  {
   "cell_type": "markdown",
   "id": "50ad9bdd",
   "metadata": {},
   "source": [
    "Then we find the ratio."
   ]
  },
  {
   "cell_type": "markdown",
   "id": "9e1fd66e",
   "metadata": {},
   "source": [
    "$$\n",
    "\\frac{p(x)}{q(x)} = \\frac{\\frac{1}{\\sqrt{2\\pi}} \\exp{(-\\frac{x^{2}}{2})}}{\\frac{1}{\\sqrt{2\\pi}} \\exp{(-\\frac{(x - \\mu)^{2}}{2})}} = \\exp{(-\\frac{x^{2}}{2} + \\frac{(x - \\mu)^{2}}{2})} = \\exp{(\\frac{\\mu^{2}}{2} - x \\mu)}\n",
    "$$"
   ]
  },
  {
   "cell_type": "markdown",
   "id": "092353ac",
   "metadata": {},
   "source": [
    "Let $\\tilde X \\sim N(0, 1)$ and $X \\sim N(25, 1)$.\n",
    "\n",
    "$$\n",
    "\\mathbb{E}[I_{\\tilde X \\geq 25}] = \\int_{\\Omega} I_{X \\geq 25} \\exp{(\\frac{\\mu^{2}}{2} - x \\mu)} \\ \\ dQ  = \\mathbb{E}^{Q}[I_{X \\geq 25} \\exp{(\\frac{\\mu^{2}}{2} - x \\mu)}] \\approx \\frac{1}{n} \\sum_{i=1}^{n} I_{X \\geq 25} \\exp{(\\frac{\\mu^{2}}{2} - x \\mu)}\n",
    "$$"
   ]
  },
  {
   "cell_type": "code",
   "execution_count": 39,
   "id": "aec02448",
   "metadata": {},
   "outputs": [],
   "source": [
    "def f(x, mu = 0, sigma = 1):\n",
    "    return(1/np.sqrt(2*math.pi*(sigma**2)) * np.exp(-((x - mu)**2)/(2*sigma**2)))\n",
    "    \n",
    "def p(x):\n",
    "    return(f(x))\n",
    "\n",
    "def q(x, mu = 25):\n",
    "    return(f(x, mu = mu, sigma = 1))"
   ]
  },
  {
   "cell_type": "markdown",
   "id": "9796e483",
   "metadata": {},
   "source": [
    "Then we can sample again but with the new distribution."
   ]
  },
  {
   "cell_type": "code",
   "execution_count": 47,
   "id": "857e2e9e",
   "metadata": {},
   "outputs": [
    {
     "name": "stdout",
     "output_type": "stream",
     "text": [
      "It took 0.007 seconds to draw the RVs.\n",
      "Expectation: 3.117757425853358e-138\n",
      "Standard Deviation: 1.7079959903261016e-137\n",
      "Confidence Interval: [-3.0358348841926467e-137, 3.6593863693633175e-137]\n",
      "It took 0.011 seconds to find the expectation.\n"
     ]
    }
   ],
   "source": [
    "mu = 25\n",
    "\n",
    "start_time = time.time()\n",
    "x3 = np.random.normal(loc = mu, scale = 1, size = 10**(5))\n",
    "end_time = time.time()\n",
    "print(\"It took {} seconds to draw the RVs.\".format(round(end_time - start_time, 3)))\n",
    "\n",
    "start_time = time.time()\n",
    "STAT = (x3 >= mu) * p(x3)/q(x3)\n",
    "E = np.mean(STAT)\n",
    "SD = np.std(STAT)\n",
    "SE = SD/np.sqrt(len(x3))\n",
    "\n",
    "dist = scipy.stats.norm(loc = 0, scale = 1)\n",
    "confidence = 0.05\n",
    "\n",
    "print(\"Expectation: {}\".format(E))\n",
    "print(\"Standard Deviation: {}\".format(SD))\n",
    "print(\"Confidence Interval: [{}, {}]\".format(E + SD * dist.ppf(confidence/2), E + SD * dist.ppf(1 - confidence/2)))\n",
    "end_time = time.time()\n",
    "print(\"It took {} seconds to find the expectation.\".format(round(end_time - start_time, 3)))"
   ]
  },
  {
   "cell_type": "code",
   "execution_count": 38,
   "id": "6cee5f75",
   "metadata": {},
   "outputs": [
    {
     "ename": "AttributeError",
     "evalue": "module 'scipy.stats' has no attribute 'invnorm'",
     "output_type": "error",
     "traceback": [
      "\u001b[0;31m---------------------------------------------------------------------------\u001b[0m",
      "\u001b[0;31mAttributeError\u001b[0m                            Traceback (most recent call last)",
      "Input \u001b[0;32mIn [38]\u001b[0m, in \u001b[0;36m<module>\u001b[0;34m\u001b[0m\n\u001b[0;32m----> 1\u001b[0m \u001b[43mscipy\u001b[49m\u001b[38;5;241;43m.\u001b[39;49m\u001b[43mstats\u001b[49m\u001b[38;5;241;43m.\u001b[39;49m\u001b[43minvnorm\u001b[49m(\u001b[38;5;241m1\u001b[39m)\n",
      "\u001b[0;31mAttributeError\u001b[0m: module 'scipy.stats' has no attribute 'invnorm'"
     ]
    }
   ],
   "source": [
    "scipy.stats.invnorm(1)"
   ]
  },
  {
   "cell_type": "code",
   "execution_count": null,
   "id": "c48967a1",
   "metadata": {},
   "outputs": [],
   "source": []
  }
 ],
 "metadata": {
  "kernelspec": {
   "display_name": "Python 3 (ipykernel)",
   "language": "python",
   "name": "python3"
  },
  "language_info": {
   "codemirror_mode": {
    "name": "ipython",
    "version": 3
   },
   "file_extension": ".py",
   "mimetype": "text/x-python",
   "name": "python",
   "nbconvert_exporter": "python",
   "pygments_lexer": "ipython3",
   "version": "3.9.12"
  }
 },
 "nbformat": 4,
 "nbformat_minor": 5
}
