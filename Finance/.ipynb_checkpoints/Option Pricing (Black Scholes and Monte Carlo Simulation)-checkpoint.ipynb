{
 "cells": [
  {
   "cell_type": "markdown",
   "id": "c9d2f4d6",
   "metadata": {},
   "source": [
    "<br>\n",
    "<br>\n",
    "<center> <font size = 6> Pricing of European Options (Black Scholes and Monte Carlo Simulation)\n",
    "         </font> \n",
    "</center>\n",
    "<br>\n",
    "<br>\n",
    "<center> <font size = 3> Last Updated: 26/01-2023 </font> </center>"
   ]
  },
  {
   "cell_type": "markdown",
   "id": "b2b90f7e",
   "metadata": {},
   "source": [
    "## Derivation of the Black-Scholes equation"
   ]
  },
  {
   "cell_type": "markdown",
   "id": "8735803a",
   "metadata": {},
   "source": [
    "To derive the governing equation, we use the classical delta-hedging argument. I used the following video to make the derivation: https://www.youtube.com/watch?v=NHvQ5CSSgw0."
   ]
  },
  {
   "cell_type": "markdown",
   "id": "45358ecc",
   "metadata": {},
   "source": [
    "Consider a portfolio $P$ which consists of one option $V_{K}(t,T)$ on the asset $S$ and a short position of $\\Delta$ times $S$. "
   ]
  },
  {
   "cell_type": "markdown",
   "id": "cb854e46",
   "metadata": {},
   "source": [
    "$$\n",
    "P = V_{K}(t, T) - \\Delta S\n",
    "$$"
   ]
  },
  {
   "cell_type": "markdown",
   "id": "cef036f8",
   "metadata": {},
   "source": [
    "Then we want to find the change in $P$ as a response to a change in $S$."
   ]
  },
  {
   "cell_type": "markdown",
   "id": "cc957935",
   "metadata": {},
   "source": [
    "$$\n",
    "\\frac{\\partial P}{\\partial S} = \\frac{\\partial V_{K}(t, T)}{\\partial S} - \\Delta \\ \\ \\ \\leftrightarrow \\ \\ \\ \\partial P = \\partial V_{K}(t, T) - \\Delta \\partial S\n",
    "$$"
   ]
  },
  {
   "cell_type": "markdown",
   "id": "83673555",
   "metadata": {},
   "source": [
    "The instantaneous change in $S$ (i.e., $\\partial S$) is governed by a geometric Brownian motion (GBM).\n",
    "\n",
    "$$\n",
    "dS = \\mu S dt + \\sigma S dW\n",
    "$$"
   ]
  },
  {
   "cell_type": "markdown",
   "id": "64612d51",
   "metadata": {},
   "source": [
    "The process $\\partial V_{K}(t, T)$ is a function of the stochastic process $S$. Hence, we can apply Itô's lemma to find the expression."
   ]
  },
  {
   "cell_type": "markdown",
   "id": "1424deae",
   "metadata": {},
   "source": [
    "\\begin{align}\n",
    "dV_{K}(t, T) &= \\frac{\\partial V_{K}(t, T)}{ \\partial t} dt + \\frac{\\partial V_{K}(t, T)}{\\partial S} dS + \\frac{1}{2} \\frac{\\partial^{2} V_{K}(t, T)}{\\partial S^{2}} dS^{2} \\\\\n",
    "&= \\frac{\\partial V_{K}(t, T)}{ \\partial t} dt + \\frac{\\partial V_{K}(t, T)}{\\partial S} dS + \\frac{1}{2} \\frac{\\partial^{2} V_{K}(t, T)}{\\partial S^{2}} (\\mu S dt + \\sigma S dW)^{2} \\\\\n",
    "&= \\frac{\\partial V_{K}(t, T)}{ \\partial t} dt + \\frac{\\partial V_{K}(t, T)}{\\partial S} dS + \\frac{1}{2} \\frac{\\partial^{2} V_{K}(t, T)}{\\partial S^{2}} (\\mu^{2} S^{2} dt^{2} + \\sigma^{2} S^{2} dW^{2} + 2 \\mu \\sigma S^{2} dt dW) \\\\\n",
    "&= \\frac{\\partial V_{K}(t, T)}{ \\partial t} dt + \\frac{\\partial V_{K}(t, T)}{\\partial S} dS + \\frac{1}{2} \\frac{\\partial^{2} V_{K}(t, T)}{\\partial S^{2}} \\sigma^{2} S^{2} dt\\\\\n",
    "\\end{align}"
   ]
  },
  {
   "cell_type": "markdown",
   "id": "06423e49",
   "metadata": {},
   "source": [
    "Then we substitute this back into the portfolio sensitivity."
   ]
  },
  {
   "cell_type": "markdown",
   "id": "846e21e2",
   "metadata": {},
   "source": [
    "\\begin{align}\n",
    "\\partial P &= \\partial V_{K}(t, T) - \\Delta \\partial S \\\\\n",
    "&= \\frac{\\partial V_{K}(t, T)}{ \\partial t} dt + \\frac{\\partial V_{K}(t, T)}{\\partial S} dS + \\frac{1}{2} \\frac{\\partial^{2} V_{K}(t, T)}{\\partial S^{2}} \\sigma^{2} S^{2} dt - \\Delta \\partial S \\\\\n",
    "&= (\\frac{\\partial V_{K}(t, T)}{ \\partial t} + \\frac{1}{2} \\frac{\\partial^{2} V_{K}(t, T)}{\\partial S^{2}} \\sigma^{2} S^{2}) dt + (\\frac{\\partial V_{K}(t, T)}{\\partial S} - \\Delta) dS\n",
    "\\end{align}"
   ]
  },
  {
   "cell_type": "markdown",
   "id": "23199c29",
   "metadata": {},
   "source": [
    "If we let $\\Delta = \\frac{\\partial V_{K}(t, T)}{\\partial S}$, then the stochastic term disappears. Therefore, the portfolio $P$ is risk-free. Hence, it should grow with the risk-free rate.\n",
    "\n",
    "$$\\frac{\\partial P}{\\partial t} = r P = r (V_{K}(t, T) - \\Delta S)$$"
   ]
  },
  {
   "cell_type": "markdown",
   "id": "5733d2d4",
   "metadata": {},
   "source": [
    "We can rephrase this.\n",
    "\n",
    "$$\n",
    "d P = r P = r (V_{K}(t, T) - \\Delta S) dt\n",
    "$$"
   ]
  },
  {
   "cell_type": "markdown",
   "id": "269479d2",
   "metadata": {},
   "source": [
    "We equate this with the portfolio sensitivity.\n",
    "\n",
    "$$\n",
    "r (V_{K}(t, T) - \\frac{\\partial V_{K}(t, T)}{\\partial S} S) dt = (\\frac{\\partial V_{K}(t, T)}{ \\partial t} + \\frac{1}{2} \\frac{\\partial^{2} V_{K}(t, T)}{\\partial S^{2}} \\sigma^{2} S^{2}) dt\n",
    "$$\n",
    "\n",
    "Then by rewriting it, we can get the equation.\n",
    "\n",
    "\\begin{align}\n",
    "r (V_{K}(t, T) - \\frac{\\partial V_{K}(t, T)}{\\partial S} S) dt &= (\\frac{\\partial V_{K}(t, T)}{ \\partial t} + \\frac{1}{2} \\frac{\\partial^{2} V_{K}(t, T)}{\\partial S^{2}} \\sigma^{2} S^{2}) dt \\\\\n",
    "r V_{K}(t, T) - r \\frac{\\partial V_{K}(t, T)}{\\partial S} S &= \\frac{\\partial V_{K}(t, T)}{ \\partial t} + \\frac{1}{2} \\frac{\\partial^{2} V_{K}(t, T)}{\\partial S^{2}} \\sigma^{2} S^{2} \\\\\n",
    "\\frac{\\partial V_{K}(t, T)}{ \\partial t} + \\frac{1}{2} \\frac{\\partial^{2} V_{K}(t, T)}{\\partial S^{2}} \\sigma^{2} S^{2} + r \\frac{\\partial V_{K}(t, T)}{\\partial S} S  - r V_{K}(t, T) &= 0 \\\\\n",
    "\\end{align}"
   ]
  },
  {
   "cell_type": "markdown",
   "id": "9eeefd4f",
   "metadata": {},
   "source": [
    "The last is known as the Black-Scholes equation."
   ]
  },
  {
   "cell_type": "markdown",
   "id": "4e6785a4",
   "metadata": {},
   "source": [
    "## Solution to the Black-Scholes equation"
   ]
  },
  {
   "cell_type": "markdown",
   "id": "2e28439f",
   "metadata": {},
   "source": [
    "It turns out that we can solve the BS equation with the following boundary conditions. Let $V_{K}(t, T)$ be replaced by $C(S, T)$, where $S$ is the stock price, and $T$ it the expiration time.\n",
    "\n",
    "\\begin{align}\n",
    "C(0, T) &= 0 \\ \\ \\forall t \\\\\n",
    "C(S, t) &= S - K \\ \\ \\text{as} \\ S \\rightarrow \\infty \\\\\n",
    "C(S, T) &= \\max\\{S-K, 0\\}\n",
    "\\end{align}"
   ]
  },
  {
   "cell_type": "markdown",
   "id": "c906e8f1",
   "metadata": {},
   "source": [
    "Let N be the CDF of the standard normal distribution. Then the solution to the Black-Scholes equation is"
   ]
  },
  {
   "cell_type": "markdown",
   "id": "bffba2d7",
   "metadata": {},
   "source": [
    "$$\n",
    "C_{K}(S_{t}, T) = N(d_{1}) S_{t} - N(d_{2}) K \\exp\\{-r(T-t)\\} \n",
    "$$"
   ]
  },
  {
   "cell_type": "markdown",
   "id": "73fa3a13",
   "metadata": {},
   "source": [
    "where\n",
    "\n",
    "\\begin{align}\n",
    "d_{1} &= \\frac{1}{\\sigma \\sqrt{T - t}} [\\ln(\\frac{S_{t}}{K}) + (r + \\frac{\\sigma^{2}}{2})(T - t)] \\\\\n",
    "d_{2} &= d_{1} - \\sigma \\sqrt{T - t}\n",
    "\\end{align}"
   ]
  },
  {
   "cell_type": "markdown",
   "id": "4bb74501",
   "metadata": {},
   "source": [
    "## Comparison of Analytical Solution and Monte Carlo Estimation"
   ]
  },
  {
   "cell_type": "code",
   "execution_count": null,
   "id": "0fa42b36",
   "metadata": {},
   "outputs": [],
   "source": [
    "import numpy as np\n",
    "import math\n",
    "from scipy.stats import norm\n",
    "\n",
    "def BlackScholes(S_t = 40, K = 45, t = 0, T = 1, sigma = 1, r = 0.05, direction = \"Call\"):\n",
    "\n",
    "    d1 = (1/(sigma*np.sqrt(T - t))) * (np.log(S_t/K) + (r + (sigma**2)/2)*(T - t))\n",
    "    d2 = d1 - sigma*np.sqrt(T - t)\n",
    "    \n",
    "    if direction == \"Call\":  \n",
    "        return(norm.cdf(d1)*S_t - norm.cdf(d2)*K*np.exp(-r*(T-t)))\n",
    "    elif direction == \"Put\":\n",
    "        return(-norm.cdf(-d1)*S_t + norm.cdf(-d2)*K*np.exp(-r*(T-t)))\n",
    "    else:\n",
    "        return(np.nan)"
   ]
  },
  {
   "cell_type": "code",
   "execution_count": null,
   "id": "9fa1766c",
   "metadata": {},
   "outputs": [],
   "source": [
    "BlackScholes(S_t = 30, K = 40, t = 0, T = 240/365, sigma = 0.30, r = 0.01, direction = \"Call\")"
   ]
  },
  {
   "cell_type": "code",
   "execution_count": null,
   "id": "d67bdbe5",
   "metadata": {},
   "outputs": [],
   "source": [
    "round(BlackScholes(S_t = 30, K = 40, t = 0, T = 240/365, sigma = 0.30, r = 0.01, direction = \"Put\"), 2)"
   ]
  },
  {
   "cell_type": "code",
   "execution_count": 1,
   "id": "aa96fcf8",
   "metadata": {},
   "outputs": [],
   "source": [
    "# DEPENDENCIES\n",
    "\n",
    "import numpy as np\n",
    "import math\n",
    "import pandas as pd\n",
    "import matplotlib.pyplot as plt\n",
    "from matplotlib import rc\n",
    "from scipy.stats import norm\n",
    "import time\n",
    "\n",
    "# # ------------------ EULER-MARUYAMA IMPLEMENTATION ------------------\n",
    "\n",
    "def SDE_simulation(tN = 100, t0 = 0, f = lambda X_t, t : 0, g = lambda X_t, t : 1, delta_t = 0.001, X_0 = 0, n_sim = 10, plot = False, title = 'Cox-Ingersoll-Ross'):\n",
    "\n",
    "    start = time.time()\n",
    "\n",
    "    size = math.ceil((tN - t0)/delta_t)\n",
    "    time_points = [t0] + [delta_t for i in range(0, size)]\n",
    "\n",
    "    column_names = ['Time'] + ['Simulation {}'.format(i) for i in range(1, n_sim+1)];\n",
    "    time_array = np.cumsum(time_points);\n",
    "\n",
    "    # Simulation (for now equal time steps are assumed)\n",
    "    dWt = norm.ppf(np.random.rand(size + 1,n_sim), loc = 0, scale = math.sqrt(delta_t))\n",
    "\n",
    "    # Euler Maruyama\n",
    "    simulation_array = np.zeros((size + 1,n_sim))\n",
    "    simulation_array[0,:]  = X_0;\n",
    "    for i in range(0, len(time_points)-1):\n",
    "        simulation_array[i+1,:] = simulation_array[i,:] + f(simulation_array[i,:], time_array[i]) * time_points[i+1] + g(simulation_array[i,:], time_array[i]) * dWt[i]\n",
    "\n",
    "    # Then we can make a Pandas data frame\n",
    "    df = pd.DataFrame(np.column_stack([time_array, simulation_array]));\n",
    "    df.columns = column_names;\n",
    "\n",
    "    end = time.time()\n",
    "    print(\"\\nTime to run simulations: {}s \\n\".format(end - start))\n",
    "    print(\"The output has {} rows and {} columns.\".format(df.shape[0], df.shape[1]))\n",
    "    print(\"The total number of elements is {}.\\n\".format(df.shape[0]*df.shape[1]))\n",
    "\n",
    "    if plot:\n",
    "\n",
    "        plt.rcParams.update({\n",
    "            \"text.usetex\": True,\n",
    "            \"font.family\": \"Helvetica\"\n",
    "        })\n",
    "\n",
    "        print(\"Plotting has started ...\\n\")\n",
    "        plt.figure(figsize=(10,6), dpi = 100)\n",
    "        plt.xlabel('t', fontsize = 14)\n",
    "        plt.ylabel(r'$X_{t}$', fontsize = 14)\n",
    "        plt.title(title, fontsize = 18)\n",
    "        plt.plot(df.iloc[:,0].values, df.iloc[:,1:].values);\n",
    "        plt.show()\n",
    "\n",
    "    return(df)\n",
    "\n",
    "# ------------------ VARIOUS MODELS FROM THE COURSE ------------------\n",
    "\n",
    "def StandardBrownianMotion(tN = 100, t0 = 0, delta_t = 0.001, B_0 = 0, n_sim = 10, plot = False, title = r'\\textbf{Standard Brownian Motion (i.e., $\\{B_{t}\\}_{t \\geq t_{0}}$)}'):\n",
    "    return SDE_simulation(tN = tN, t0 = t0, delta_t = 0.001, X_0 = B_0, n_sim = n_sim, plot = plot, title = title)\n",
    "\n",
    "# The GBM is also called Wide-Sense Linear\n",
    "\n",
    "def GeometricBrownianMotion(r = 0.1, sigma = 0.2, tN = 100, t0 = 0, delta_t = 0.001, B_0 = 0, n_sim = 10, plot = False, title = r'Geometric Brownian Motion'):\n",
    "\n",
    "    def f(state: float, t: float)->\"Drift\":\n",
    "        return(state*r)\n",
    "\n",
    "    def g(state: float, t: float)->\"Diffusion\":\n",
    "        return(state*sigma)\n",
    "\n",
    "    return SDE_simulation(tN = tN, f = f, g = g, t0 = t0, delta_t = 0.001, X_0 = B_0, n_sim = n_sim, plot = plot, title = title)\n",
    "\n",
    "def CoxIngersollRoss(lambdA = 0.1, xi = 0.2, gamma = 0.3, tN = 100, t0 = 0, delta_t = 0.001, B_0 = 0, n_sim = 10, plot = False, title = r'Cox-Ingersoll-Ross'):\n",
    "\n",
    "    def f(state: float, t: float)->\"Drift\":\n",
    "        return(lambdA * (xi - state))\n",
    "\n",
    "    def g(state: float, t: float)->\"Diffusion\":\n",
    "        return(gamma * np.sqrt(state))\n",
    "\n",
    "    return SDE_simulation(tN = tN, f = f, g = g, t0 = t0, delta_t = 0.001, X_0 = B_0, n_sim = n_sim, plot = plot, title = title)"
   ]
  },
  {
   "cell_type": "code",
   "execution_count": 11,
   "id": "3ece3440",
   "metadata": {},
   "outputs": [],
   "source": [
    "def monteCarloEuropeanOptions(S_t = 30, K = 40, t = 0, T = 240/365, sigma = 0.30, r = 0.01, direction = \"Call\", n_sim = 1000):\n",
    "    \n",
    "    simulations = GeometricBrownianMotion(r = r, sigma = sigma, tN = T, t0 = 0, delta_t = 0.01, B_0 = S_t, n_sim = n_sim, plot = False, title = r'Geometric Brownian Motion')\n",
    "    S_T = simulations.iloc[-1,1:].values\n",
    "    C_T = S_T[S_T - K <= 0] = 0\n",
    "    C_T[C_T - K <= 0] = 0\n",
    "    expectation_C_T = np.mean(C_T)\n",
    "    discountFactor = np.exp(-r*(T - t))\n",
    "    return(expectation_C_T * discountFactor)\n"
   ]
  },
  {
   "cell_type": "code",
   "execution_count": 12,
   "id": "82388e52",
   "metadata": {},
   "outputs": [
    {
     "name": "stdout",
     "output_type": "stream",
     "text": [
      "\n",
      "Time to run simulations: 3.122141122817993s \n",
      "\n",
      "The output has 659 rows and 100001 columns.\n",
      "The total number of elements is 65900659.\n",
      "\n"
     ]
    }
   ],
   "source": [
    "test = monteCarloEuropeanOptions(n_sim=100000)"
   ]
  },
  {
   "cell_type": "code",
   "execution_count": 13,
   "id": "8833adc9",
   "metadata": {},
   "outputs": [
    {
     "data": {
      "text/plain": [
       "0.0"
      ]
     },
     "execution_count": 13,
     "metadata": {},
     "output_type": "execute_result"
    }
   ],
   "source": [
    "test"
   ]
  },
  {
   "cell_type": "code",
   "execution_count": null,
   "id": "c6dd5a2e",
   "metadata": {},
   "outputs": [],
   "source": []
  }
 ],
 "metadata": {
  "kernelspec": {
   "display_name": "Python 3 (ipykernel)",
   "language": "python",
   "name": "python3"
  },
  "language_info": {
   "codemirror_mode": {
    "name": "ipython",
    "version": 3
   },
   "file_extension": ".py",
   "mimetype": "text/x-python",
   "name": "python",
   "nbconvert_exporter": "python",
   "pygments_lexer": "ipython3",
   "version": "3.9.12"
  }
 },
 "nbformat": 4,
 "nbformat_minor": 5
}
